{
 "cells": [
  {
   "cell_type": "markdown",
   "metadata": {},
   "source": [
    "## Project Description\n",
    "My project is a chatbot that can give basic information about the director, Christopher Nolan. The user can search on this chatbot rather than go onto google to gather all kind of information about him. This is only a really brief version, and I would like to add more information about him in the future.\n",
    "\n",
    "The project gives credit to https://github.com/ahmadfaizalbh/Meetup-Resources/blob/master/How%20to%20build%20a%20bot.ipynb for the use of Wikipedia Search. Also, I use some funtions to prepare texts from A3 - ChatBot."
   ]
  },
  {
   "cell_type": "markdown",
   "metadata": {},
   "source": [
    "## How to use this Chatbot?\n",
    "Even though i tried to give clear instruction in the chatbot, but there's still some point I found not clear as I wanted. So, I want to give more insreuctions about this chatbot.\n",
    "\n",
    "- Type in Christopher Nolan for the Wikipedia description\n",
    "- Any sentences containing 'movie' or 'movies' would give out a list of movies that he directed\n",
    "- Any sentences containing 'nolan' and 'link' would open his wikipedia page\n",
    "- Any sentences containing any Christopher Nolan's movie name and 'link' would give out the link for the movie's wikipedia page and the link for the movie's trailer\n",
    "- 'quit' would let tou leave this chatbot\n",
    "\n",
    "### Enjoying playing the NolanBot ;)"
   ]
  },
  {
   "cell_type": "code",
   "execution_count": 1,
   "metadata": {},
   "outputs": [],
   "source": [
    "from Cogs18Final_functions import *\n",
    "from Cogs18Final_Test import *"
   ]
  },
  {
   "cell_type": "code",
   "execution_count": 2,
   "metadata": {},
   "outputs": [
    {
     "name": "stdout",
     "output_type": "stream",
     "text": [
      "Hi, how are you?\n",
      " I can tell you more about Chritopher Nolan.\n",
      " Maybe you should start by type in his name. ;)\n",
      "\n",
      "Christopher Nolan\n",
      "Here's the wikipedia description for christopher nolan:\n",
      "\n",
      "Christopher Edward Nolan,  (; born 30 July 1970) is a British-American film director, screenwriter, and producer, who is known for making personal, distinctive films within the Hollywood mainstream. His films have grossed over US$4.7 billion worldwide and garnered a total of 34 Oscar nominations and ten wins.\n",
      "Born and raised in London, Nolan developed an interest in filmmaking from a young age. After studying English literature at University College London, he made his feature debut with Following (1998). Nolan gained international recognition with his second feature, Memento (2000), for which he was nominated for the Academy Award for Best Original Screenplay. He transitioned from independent to studio filmmaking with Insomnia (2002), and found further critical and commercial success with The Dark Knight Trilogy (2005–2012), The Prestige (2006), and Inception (2010), which received eight Oscar nominations, including for Best Picture and Best Original Screenplay. This was followed by Interstellar (2014), and Dunkirk (2017), which earned him Academy Award nominations for Best Picture and Best Director. Nolan has co-written several of his films with his brother Jonathan, and runs the production company Syncopy Inc. with his wife Emma Thomas.\n",
      "Nolan's films are typically rooted in epistemological and metaphysical themes, exploring human morality, the construction of time, and the malleable nature of memory and personal identity. His work is permeated by unconventional narrative structures, cross-cutting, practical special effects, experimental soundscapes, large-format film photography, materialistic perspectives, and analogous relationships between visual language and narrative elements. \n",
      "Throughout his career, Nolan has received many awards and honours. Time magazine named Nolan one of the 100 most influential people in the world in 2015, and in 2019, he was appointed Commander of the Order of the British Empire for his services to film. In addition to his filmmaking, he is an advocate for film preservation and the analog medium. \n",
      "\n",
      "  \n",
      "\n",
      "I want to know the movies nolan directed\n",
      "Here's the movies Christopher Nolan have directed:\n",
      "\n",
      "Following (1998) Memento (2000) Insomnia (2002) Batman Begins (2005) The Prestige (2006) The Dark Knight (2008) Inception (2010) The Dark Knight Rises (2012) Interstellar (2014) Dunkirk (2017) Tenet (2020) \n",
      "\n",
      " If you want to know more about his film, pls type in the name, and will lead to the movie's wikipedia page, and give you a link for the film's trailer.\n",
      " \n",
      "\n",
      "Following link\n",
      "Here's the wikipedia page for Following\n",
      "https://en.wikipedia.org/wiki/Following \n",
      "\n",
      " Trailer link for Following:\n",
      "https://www.youtube.com/watch?v=udr4uX8uioo \n",
      "\n",
      "nolan link\n",
      "View his wikipedia page for more information. \n",
      "\n",
      "  \n",
      "\n",
      "quit\n",
      "Bye! \n",
      "\n",
      "  \n",
      "\n"
     ]
    }
   ],
   "source": [
    "NolanBot()"
   ]
  },
  {
   "cell_type": "code",
   "execution_count": 3,
   "metadata": {
    "scrolled": true
   },
   "outputs": [],
   "source": [
    "test_all()"
   ]
  }
 ],
 "metadata": {
  "kernelspec": {
   "display_name": "Python 3",
   "language": "python",
   "name": "python3"
  },
  "language_info": {
   "codemirror_mode": {
    "name": "ipython",
    "version": 3
   },
   "file_extension": ".py",
   "mimetype": "text/x-python",
   "name": "python",
   "nbconvert_exporter": "python",
   "pygments_lexer": "ipython3",
   "version": "3.7.4"
  }
 },
 "nbformat": 4,
 "nbformat_minor": 2
}
